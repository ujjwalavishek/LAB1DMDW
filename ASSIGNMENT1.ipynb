{
  "nbformat": 4,
  "nbformat_minor": 0,
  "metadata": {
    "colab": {
      "name": "ASSIGNMENT1.ipynb",
      "provenance": [],
      "authorship_tag": "ABX9TyPAXMZSJ+CjQMy0GaqqB76u",
      "include_colab_link": true
    },
    "kernelspec": {
      "name": "python3",
      "display_name": "Python 3"
    }
  },
  "cells": [
    {
      "cell_type": "markdown",
      "metadata": {
        "id": "view-in-github",
        "colab_type": "text"
      },
      "source": [
        "<a href=\"https://colab.research.google.com/github/ujjwalvishek/LAB1DMDW/blob/main/ASSIGNMENT1.ipynb\" target=\"_parent\"><img src=\"https://colab.research.google.com/assets/colab-badge.svg\" alt=\"Open In Colab\"/></a>"
      ]
    },
    {
      "cell_type": "code",
      "metadata": {
        "id": "5EItxZJ5hL5d",
        "outputId": "6f21a7ea-22bc-4c8c-91ec-1ace66fb1b40",
        "colab": {
          "base_uri": "https://localhost:8080/"
        }
      },
      "source": [
        "from collections import Counter\n",
        "data=[float(i) for i in input().split()]\n",
        "n=len(data)\n",
        "mean=sum(data)/n\n",
        "print(\"Mean = \",mean)\n",
        "#calculation of median\n",
        "temp=data.copy()\n",
        "temp=sorted(temp)\n",
        "if n%2!=0:\n",
        "  print(\"Median = \",temp[n//2])\n",
        "else:\n",
        "  median=(temp[n//2]+temp[n//2+1])/2\n",
        "  print(\"Median = \",median)\n",
        "#calculation of mode\n",
        "cnt=Counter(data)\n",
        "maxi=max(cnt.items(),key= lambda x:x[1])[1]\n",
        "print(maxi)\n",
        "mode=[]\n",
        "for each in cnt.items():\n",
        "  if each[1]==maxi:\n",
        "    mode.append(each[0])\n",
        "    print(\"each[0] = \",each[0])\n",
        "if len(mode)==n:\n",
        "  print(\"Not found\")\n",
        "else:\n",
        "  print(\"Mode = \",mode)"
      ],
      "execution_count": 8,
      "outputs": [
        {
          "output_type": "stream",
          "text": [
            "3 3 6 9 16 16 16 27 27 27 4 5 5 5\n",
            "Mean =  12.071428571428571\n",
            "Median =  12.5\n",
            "3\n",
            "each[0] =  16.0\n",
            "each[0] =  27.0\n",
            "each[0] =  5.0\n",
            "Mode =  [16.0, 27.0, 5.0]\n"
          ],
          "name": "stdout"
        }
      ]
    },
    {
      "cell_type": "code",
      "metadata": {
        "id": "HyjLiotChUjG",
        "outputId": "481d025c-5289-473a-cd97-1c56ccce1748",
        "colab": {
          "base_uri": "https://localhost:8080/"
        }
      },
      "source": [
        "#calculation of variance\n",
        "data=[float(i) for i in input().split()]\n",
        "n=len(data)\n",
        "mean=sum(data)/n\n",
        "sum1=0\n",
        "for e in data:\n",
        "  sum1+=(e-mean)**2\n",
        "variance=sum1/n\n",
        "print('Variance = ',variance)\n",
        "#calculation of standard deviation\n",
        "std=variance**(0.5)\n",
        "print(\"Standard Deviation = \",std)"
      ],
      "execution_count": 10,
      "outputs": [
        {
          "output_type": "stream",
          "text": [
            "25 26 27 30 32\n",
            "Variance =  6.8\n",
            "Standard Deviation =  2.6076809620810595\n"
          ],
          "name": "stdout"
        }
      ]
    },
    {
      "cell_type": "code",
      "metadata": {
        "id": "zFTZ15uvhVBm",
        "outputId": "920820e7-ab6c-48af-d86a-4de6318eedcc",
        "colab": {
          "base_uri": "https://localhost:8080/"
        }
      },
      "source": [
        "#program to check a string is pallindrome or not\n",
        "s=input()\n",
        "if (s==s[::-1]):\n",
        "  print('YES')\n",
        "else:\n",
        "  print('NO')"
      ],
      "execution_count": 12,
      "outputs": [
        {
          "output_type": "stream",
          "text": [
            "ujjwal\n",
            "NO\n"
          ],
          "name": "stdout"
        }
      ]
    },
    {
      "cell_type": "code",
      "metadata": {
        "id": "9KKHut8mhVdY",
        "outputId": "655d0c94-9e9d-44d1-be5b-d636dc22e9d4",
        "colab": {
          "base_uri": "https://localhost:8080/"
        }
      },
      "source": [
        "#program to find nth fibonacci number\n",
        "n=int(input())\n",
        "fibo=[0]*n\n",
        "fibo[0]=0;fibo[1]=1\n",
        "for i in range(2,n):\n",
        "  fibo[i]=fibo[i-1]+fibo[i-2]\n",
        "print(fibo[n-1])"
      ],
      "execution_count": 20,
      "outputs": [
        {
          "output_type": "stream",
          "text": [
            "4\n",
            "2\n"
          ],
          "name": "stdout"
        }
      ]
    },
    {
      "cell_type": "code",
      "metadata": {
        "id": "839LQdKm7ko-"
      },
      "source": [
        ""
      ],
      "execution_count": null,
      "outputs": []
    }
  ]
}